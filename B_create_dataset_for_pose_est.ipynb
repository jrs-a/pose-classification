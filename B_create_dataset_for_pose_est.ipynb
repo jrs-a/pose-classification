{
  "cells": [
    {
      "cell_type": "markdown",
      "metadata": {
        "id": "rONEHzcKSLkn"
      },
      "source": [
        "# Create metadata dataset\n",
        "1.   get vids from google drive\n",
        "2.   create a df from the vids in the google drive, parse the filename for col values\n",
        "3.   upload dataset metadata to hugging face\n",
        "\n"
      ]
    },
    {
      "cell_type": "code",
      "execution_count": null,
      "metadata": {
        "colab": {
          "base_uri": "https://localhost:8080/"
        },
        "id": "dXkeayumhZFv",
        "outputId": "66e46039-8085-49ce-8392-e795ed6978a2"
      },
      "outputs": [],
      "source": [
        "!pip install huggingface_hub datasets -q\n",
        "\n",
        "import os\n",
        "import pandas as pd\n",
        "from datasets import Dataset\n",
        "from huggingface_hub import login\n",
        "from google.colab import drive\n",
        "\n",
        "DRIVE_PATH = \"/content/drive/MyDrive/poseEstRawVids\"\n",
        "HF_DATASET_NAME = \"pose-est_metadata\"\n",
        "HF_TOKEN = \"\"\n",
        "\n",
        "drive.mount('/content/drive')"
      ]
    },
    {
      "cell_type": "code",
      "execution_count": null,
      "metadata": {
        "id": "fBCz3CXaDJtr"
      },
      "outputs": [],
      "source": [
        "# Parse video files and create metadata dataframe\n",
        "def parse_video_metadata(root, file):\n",
        "    \"\"\"Extract metadata from filename following convention\"\"\"\n",
        "    try:\n",
        "        name, ext = os.path.splitext(file)\n",
        "        parts = name.split('_')\n",
        "\n",
        "        exercise, view, correctness, participant, unique_id = parts\n",
        "\n",
        "        return {\n",
        "            \"file_name\": file,\n",
        "            \"exercise\": exercise,\n",
        "            \"view\": view,\n",
        "            \"correctness\": correctness,\n",
        "            \"participant\": participant,\n",
        "            \"unique_id\": unique_id,\n",
        "            \"drive_path\": os.path.join(root, file),\n",
        "            \"extension\": ext\n",
        "        }\n",
        "    except Exception as e:\n",
        "        print(f\"Skipping {file}: {str(e)}\")\n",
        "        return None\n",
        "\n",
        "metadata = []\n",
        "for root, _, files in os.walk(DRIVE_PATH):\n",
        "    for file in files:\n",
        "      meta = parse_video_metadata(root, file)\n",
        "      if meta:\n",
        "          metadata.append(meta)"
      ]
    },
    {
      "cell_type": "code",
      "execution_count": null,
      "metadata": {
        "id": "kIx76JwYxP3q"
      },
      "outputs": [],
      "source": [
        "# Create Hugging Face Dataset\n",
        "df = pd.DataFrame(metadata)\n",
        "dataset = Dataset.from_pandas(df)\n",
        "df.head()"
      ]
    },
    {
      "cell_type": "code",
      "execution_count": null,
      "metadata": {
        "collapsed": true,
        "id": "FXspJmwWhz2f"
      },
      "outputs": [],
      "source": [
        "# Upload metadata to Hugging Face\n",
        "login(token=HF_TOKEN)\n",
        "dataset.push_to_hub(HF_DATASET_NAME)\n",
        "\n",
        "print(\"✅ Metadata dataset uploaded to Hugging Face Hub!\")\n",
        "print(f\"📊 Dataset contains {len(df)} video entries\")"
      ]
    },
    {
      "cell_type": "markdown",
      "metadata": {
        "id": "-o0BOAlCi4a9"
      },
      "source": [
        "# Load dataset\n",
        "1.   load metadata dataframe from huggingface\n",
        "2.   mount videos from google drive"
      ]
    },
    {
      "cell_type": "code",
      "execution_count": null,
      "metadata": {
        "colab": {
          "base_uri": "https://localhost:8080/",
          "height": 1000
        },
        "collapsed": true,
        "id": "12CjghohjWkG",
        "outputId": "aaf896f8-84c4-4dc3-d6f4-8fc6ea61c756"
      },
      "outputs": [],
      "source": [
        "!pip install -U datasets"
      ]
    },
    {
      "cell_type": "code",
      "execution_count": null,
      "metadata": {
        "colab": {
          "base_uri": "https://localhost:8080/",
          "height": 235,
          "referenced_widgets": [
            "f6cdf3e31f3b4fe49f0ffa0e456f9e34",
            "7de506eb683c4662a04c6f9b77766489",
            "21d102d5236d4f4e85d4bb9cc26987ea",
            "8e0891e3334e44cc8ae8eeb970bbc2ec",
            "b4a9d76e4f124fb7ab6f9c3d64a0987c",
            "d326f130963a49ca8aecca073b44abe6",
            "27e2f116f67f4644ae14bf472e9baeea",
            "4e20b4b83ec34feab6c472220f535705",
            "96fc3e5c8fe94c92a8972cf1703520d3",
            "8347b138c86f445f943a8186777b4749",
            "e3a630f4098841ff879f77eb71a4a65d",
            "a44e77e82371424e96c8aafe8884db96",
            "384ff9ea2b0042cf9d4ce417c3f44985",
            "4903bdd218ec4a3ebdf490679772e93a",
            "a743d467dc594b088f491fd30d44ab28",
            "07f407ac74be44be8a13928f908d20ce",
            "f25c4a47ec674ca1927ffd0f1e69c306",
            "cfd1815027c24baf996d2167cb39c1c5",
            "281d991979f647a8ba3454c4ef751308",
            "48de10c7f5a047d697cf599de188a902",
            "0cc94ec7c0b74b24a19c367bd273f4a2",
            "254820fb87fe4ce792c9c10984df0714",
            "0ae3c5f2907d466e8dcbf5b6ab49a8a0",
            "032f6967223d41ef9e08ac577a8ded14",
            "bc92da07e4d441ceba20565df0497602",
            "fc33a95172774253b21734bbfa6500e9",
            "fd9ceb019adc47a6ae3e3f867cc7c25b",
            "98379af4c4004da18344d3036fe61a49",
            "1efb26661859478bb724e35edb04d474",
            "589fa636908b402d8f26abc5e40727a5",
            "0b1ec1a2282441a6a1caf2080bd8bb52",
            "1c9d644e1f06481bbadd0f9ee0c0ae2f",
            "5cc6790696d34e93929dc58eebdb3c0d"
          ]
        },
        "collapsed": true,
        "id": "erqy4aOB_C80",
        "outputId": "96e95e0a-26cc-44de-a64c-effe1ac12cae"
      },
      "outputs": [],
      "source": [
        "from datasets import load_dataset\n",
        "from google.colab import drive\n",
        "import pandas as pd\n",
        "\n",
        "HF_TOKEN = \"\"\n",
        "dataset = load_dataset(\"jrs-a/test\") #pose-est_metadata"
      ]
    },
    {
      "cell_type": "code",
      "execution_count": null,
      "metadata": {
        "colab": {
          "base_uri": "https://localhost:8080/"
        },
        "id": "WpKx9d0XYnx8",
        "outputId": "14ddfcda-163e-4c55-83cf-f5339a87d92b"
      },
      "outputs": [],
      "source": [
        "drive.mount('/content/drive')"
      ]
    },
    {
      "cell_type": "code",
      "execution_count": null,
      "metadata": {
        "colab": {
          "base_uri": "https://localhost:8080/"
        },
        "id": "SxpxyZM4zwAx",
        "outputId": "4f76bde1-3b78-492f-8d32-ed7697006bd3"
      },
      "outputs": [],
      "source": [
        "print(dataset)"
      ]
    },
    {
      "cell_type": "markdown",
      "metadata": {
        "id": "i6AzCWIJz1Zr"
      },
      "source": [
        "only run on first time"
      ]
    },
    {
      "cell_type": "code",
      "execution_count": null,
      "metadata": {
        "id": "cg-bIItljyuh"
      },
      "outputs": [],
      "source": [
        "# sample\n",
        "sample = dataset['train'][0]\n",
        "print(f\"Analyzing: {sample['exercise']} ({sample['correctness']})\")\n",
        "\n",
        "# If you need to access the video data/path:\n",
        "video_path = sample.get('drive_path')  # or whatever key stores your video data\n",
        "print(f\"Video source: {video_path}\")\n",
        "\n",
        "# Process video (example using OpenCV)\n",
        "!pip install opencv-python -q\n",
        "import cv2\n",
        "\n",
        "cap = cv2.VideoCapture(video_path)\n",
        "frame_count = int(cap.get(cv2.CAP_PROP_FRAME_COUNT))\n",
        "print(f\"Video loaded with {frame_count} frames\")"
      ]
    },
    {
      "cell_type": "markdown",
      "metadata": {
        "id": "jZio_bXOTWSu"
      },
      "source": [
        "# Detect with OpenPose"
      ]
    },
    {
      "cell_type": "code",
      "execution_count": null,
      "metadata": {
        "colab": {
          "base_uri": "https://localhost:8080/"
        },
        "collapsed": true,
        "id": "W979oVZYeLzi",
        "outputId": "b63e661e-9773-4a40-a00b-4a158c3527f7"
      },
      "outputs": [],
      "source": [
        "# requirements\n",
        "!apt-get update\n",
        "!apt-get install -y pigz libgoogle-glog-dev libboost-all-dev libatlas-base-dev libopencv-dev\n",
        "!pip install huggingface_hub numpy opencv-python\n",
        "\n",
        "import subprocess\n",
        "import os\n",
        "from huggingface_hub import hf_hub_download"
      ]
    },
    {
      "cell_type": "markdown",
      "metadata": {
        "id": "ohQFderPnBWo"
      },
      "source": [
        "## get openpose bin from huggingface"
      ]
    },
    {
      "cell_type": "code",
      "execution_count": null,
      "metadata": {
        "colab": {
          "base_uri": "https://localhost:8080/",
          "height": 1000,
          "referenced_widgets": [
            "dc59edfe25a648fa97a3e3eea529fb8e",
            "69af9121c3b94ade81e54cbd246aa5dc",
            "79df315bcc374ed0ade73a502b59fa48",
            "0d64c95ddd37414b9ce70218a78c6212",
            "d586b1c160f74e1e8be46924f5d85f85",
            "2bdb72e563b142e7b1b3a5f8eba0ecfa",
            "a310a0b06cf64fdd92b88f290a73e84c",
            "c17212ecbdff4086bace9ad3f900e636",
            "fbc3b47609694f698a34831d26f5dede",
            "82774eb13e144ca09b2cb54155e93d6c",
            "e5244c7dfcee4e668ca300216122b2f4"
          ]
        },
        "collapsed": true,
        "id": "tbhafmPdVw9t",
        "outputId": "a8828287-8842-4a77-9ad7-601309c69379"
      },
      "outputs": [],
      "source": [
        "repo_id = \"jrs-a/openpose-colab\"\n",
        "tarball_path = hf_hub_download(repo_id=repo_id, filename=\"openpose_colab_build.tar.gz\")\n",
        "\n",
        "# Extract to /content\n",
        "!tar --use-compress-program=pigz -xvf \"{tarball_path}\""
      ]
    },
    {
      "cell_type": "markdown",
      "metadata": {
        "id": "dFJT4Am0nP8L"
      },
      "source": [
        "## get openpose keypoints\n",
        "1.   detect keypoints\n",
        "2.   store keypoints to df\n"
      ]
    },
    {
      "cell_type": "markdown",
      "metadata": {
        "id": "zZJo4iEDmW2n"
      },
      "source": [
        "### extract json keypoints"
      ]
    },
    {
      "cell_type": "code",
      "execution_count": null,
      "metadata": {
        "id": "dTfRBE5RjFjj"
      },
      "outputs": [],
      "source": [
        "def process_video_with_openpose(video_path, output_dir, model_dir, json_filename, video_filename):\n",
        "    \"\"\"\n",
        "    Process a video using OpenPose binary and save keypoints as JSON files\n",
        "    \"\"\"\n",
        "    # Create output directories\n",
        "    os.makedirs(os.path.join(output_dir, \"json\"), exist_ok=True)\n",
        "    os.makedirs(os.path.join(output_dir, \"rendered\"), exist_ok=True)\n",
        "\n",
        "    # Build command\n",
        "    cmd = [\n",
        "        f\"{OPENPOSE_BUILD_PATH}/examples/openpose/openpose.bin\",\n",
        "        \"--video\", video_path,\n",
        "        \"--write_json\", os.path.join(output_dir, \"json\", json_filename),\n",
        "        # \"--write_video\", os.path.join(output_dir, \"rendered\", f\"{video_filename}.avi\"),\n",
        "        \"--display\", \"0\",\n",
        "        \"--render_pose\", \"0\",\n",
        "        \"--model_folder\", model_dir,\n",
        "        \"--number_people_max\", \"1\"  # Only track the main person\n",
        "    ]\n",
        "\n",
        "    # Run OpenPose\n",
        "    print(f\"Processing video: {video_path}\")\n",
        "    result = subprocess.run(cmd, capture_output=True, text=True)\n",
        "\n",
        "    if result.returncode != 0:\n",
        "        print(f\"Error processing video: {result.stderr}\")\n",
        "        return False\n",
        "\n",
        "    print(f\"Successfully processed video. JSON output in: {os.path.join(output_dir, 'json')}\")\n",
        "    return True"
      ]
    },
    {
      "cell_type": "code",
      "execution_count": null,
      "metadata": {
        "id": "E4M92r5vmddZ"
      },
      "outputs": [],
      "source": [
        "OPENPOSE_ROOT = \"/content/openpose/openpose\"\n",
        "OPENPOSE_BUILD_PATH = f\"{OPENPOSE_ROOT}/build\"\n",
        "MODEL_DIR = f\"{OPENPOSE_ROOT}/models\"\n",
        "OUTPUT_DIR = \"/content/output\""
      ]
    },
    {
      "cell_type": "code",
      "execution_count": null,
      "metadata": {
        "colab": {
          "base_uri": "https://localhost:8080/"
        },
        "collapsed": true,
        "id": "vOnO8S5K7rhy",
        "outputId": "fdad091c-b747-464e-de3d-d954ea034810"
      },
      "outputs": [],
      "source": [
        "for item in iter(dataset['train']):\n",
        "    video_path = item['drive_path']\n",
        "\n",
        "    # Extract base name for output filenames\n",
        "    base_name = os.path.splitext(os.path.basename(video_path))[0]\n",
        "    json_filename = f\"{base_name}_keypoints\"\n",
        "    video_filename = f\"{base_name}_rendered\"\n",
        "\n",
        "    print(f\"Processing: {item['exercise']} ({item['correctness']}) - {item['file_name']}\")\n",
        "\n",
        "    # Process the video\n",
        "    success = process_video_with_openpose(\n",
        "        video_path=video_path,\n",
        "        output_dir=OUTPUT_DIR,\n",
        "        model_dir=MODEL_DIR,\n",
        "        json_filename=json_filename,\n",
        "        video_filename=video_filename\n",
        "    )\n",
        "\n",
        "    if success:\n",
        "        print(f\"✓ Successfully processed: {item['file_name']}\")\n",
        "    else:\n",
        "        print(f\"✗ Failed to process: {item['file_name']}\")\n",
        "    print(\"-\" * 50)"
      ]
    },
    {
      "cell_type": "markdown",
      "metadata": {
        "id": "ChNrPPzLpX2c"
      },
      "source": [
        "### json keypoints to time series"
      ]
    },
    {
      "cell_type": "code",
      "execution_count": null,
      "metadata": {
        "id": "z9VsMmA_hy_4"
      },
      "outputs": [],
      "source": [
        "import json\n",
        "import numpy as np\n",
        "import os\n",
        "\n",
        "def json_to_time_series(json_dir):\n",
        "    \"\"\"\n",
        "    Convert OpenPose JSON output to time series array\n",
        "    Format: (frames, keypoints, 3) where 3 = [x, y, confidence]\n",
        "    \"\"\"\n",
        "    # Get sorted list of JSON files\n",
        "    json_files = sorted([\n",
        "        os.path.join(json_dir, f) for f in os.listdir(json_dir)\n",
        "        if f.endswith(\".json\")\n",
        "    ])\n",
        "\n",
        "    keypoints_sequence = []\n",
        "\n",
        "    for json_file in json_files:\n",
        "        with open(json_file) as f:\n",
        "            data = json.load(f)\n",
        "\n",
        "            if not data[\"people\"]:\n",
        "                # No person detected - use zero padding\n",
        "                keypoints_sequence.append(np.zeros((25, 3)))\n",
        "                continue\n",
        "\n",
        "            # Get keypoints of main person (first person)\n",
        "            keypoints = np.array(data[\"people\"][0][\"pose_keypoints_2d\"], dtype=np.float32)\n",
        "            keypoints = keypoints.reshape(-1, 3)  # Reshape to (25, 3)\n",
        "            keypoints_sequence.append(keypoints)\n",
        "\n",
        "    return np.array(keypoints_sequence)"
      ]
    },
    {
      "cell_type": "code",
      "execution_count": null,
      "metadata": {
        "id": "MMo9mqISIl09"
      },
      "outputs": [],
      "source": [
        "def build_dataframe(dataset, base_json_dir):\n",
        "    \"\"\"\n",
        "    Process JSON files and include metadata from the original dataset,\n",
        "    returning a pandas DataFrame\n",
        "    \"\"\"\n",
        "    train_dataset = dataset['train']\n",
        "    all_rows = []\n",
        "\n",
        "    # Create mapping from video base name to metadata\n",
        "    video_metadata = {}\n",
        "    for i in range(len(train_dataset)):\n",
        "        item = train_dataset[i]\n",
        "        base_name = os.path.splitext(os.path.basename(item['drive_path']))[0]\n",
        "        video_metadata[base_name] = item\n",
        "\n",
        "    # Process all JSON directories\n",
        "    video_dirs = [\n",
        "        d for d in os.listdir(base_json_dir)\n",
        "        if os.path.isdir(os.path.join(base_json_dir, d)) and d.endswith('_keypoints')\n",
        "    ]\n",
        "\n",
        "    for video_dir in video_dirs:\n",
        "        video_path = os.path.join(base_json_dir, video_dir)\n",
        "        video_id = video_dir.replace('_keypoints', '')\n",
        "\n",
        "        # Get metadata if available\n",
        "        metadata = video_metadata.get(video_id, {})\n",
        "\n",
        "        print(f\"\\nProcessing: {video_id}\")\n",
        "        time_series = json_to_time_series(video_path)\n",
        "\n",
        "        if time_series is not None:\n",
        "            # Create a row for the DataFrame\n",
        "            if isinstance(time_series, np.ndarray):\n",
        "                time_series = time_series.tolist()\n",
        "\n",
        "            row = {\n",
        "                'video_id': video_id,\n",
        "                'time_series': time_series\n",
        "            }\n",
        "            # Add all metadata fields to the row\n",
        "            row.update(metadata)\n",
        "\n",
        "            all_rows.append(row)\n",
        "            print(f\"Added to DataFrame: {video_id}\")\n",
        "\n",
        "    # Create DataFrame\n",
        "    return pd.DataFrame(all_rows)"
      ]
    },
    {
      "cell_type": "code",
      "execution_count": null,
      "metadata": {
        "collapsed": true,
        "id": "8p_MDcQyMr7u"
      },
      "outputs": [],
      "source": [
        "json_dir = f\"{OUTPUT_DIR}/json\"\n",
        "openpose_keypoints_df = build_dataframe(dataset, json_dir)"
      ]
    },
    {
      "cell_type": "code",
      "execution_count": null,
      "metadata": {
        "collapsed": true,
        "id": "phP8D-SLLquY"
      },
      "outputs": [],
      "source": [
        "openpose_keypoints_df.head()"
      ]
    },
    {
      "cell_type": "markdown",
      "metadata": {
        "id": "NUuO3nCW0RoJ"
      },
      "source": [
        "## store full dataset in huggingface\n",
        "find out how to create dataset for all pose est models in one repo"
      ]
    },
    {
      "cell_type": "code",
      "execution_count": null,
      "metadata": {
        "id": "fLDzCyMR1tyG"
      },
      "outputs": [],
      "source": [
        "# Install required packages\n",
        "!pip install huggingface_hub datasets -q\n",
        "\n",
        "import os\n",
        "\n",
        "from datasets import Dataset\n",
        "from huggingface_hub import login\n",
        "\n",
        "HF_DATASET_NAME = \"exercises-keypoints-openpose\"\n",
        "HF_TOKEN = \"\""
      ]
    },
    {
      "cell_type": "code",
      "execution_count": null,
      "metadata": {
        "id": "_Qw122fA3IwV"
      },
      "outputs": [],
      "source": [
        "# Create Hugging Face Dataset\n",
        "df = pd.DataFrame(openpose_keypoints_df)\n",
        "openpose_keypoints_dataset = Dataset.from_pandas(df)\n",
        "df.head()"
      ]
    },
    {
      "cell_type": "code",
      "execution_count": null,
      "metadata": {
        "id": "h3c3f5Mf1aXL"
      },
      "outputs": [],
      "source": [
        "# Upload metadata to Hugging Face\n",
        "login(token=HF_TOKEN)\n",
        "openpose_keypoints_dataset.push_to_hub(HF_DATASET_NAME)\n",
        "\n",
        "print(\"✅ Metadata dataset uploaded to Hugging Face Hub!\")\n",
        "print(f\"📊 Dataset contains {len(df)} video entries\")"
      ]
    },
    {
      "cell_type": "markdown",
      "metadata": {
        "id": "KdB4l6jgli-r"
      },
      "source": [
        "## preprocessing for rocket classifier"
      ]
    },
    {
      "cell_type": "code",
      "execution_count": null,
      "metadata": {
        "id": "_DLH7-MOlQ4f"
      },
      "outputs": [],
      "source": [
        "import numpy as np\n",
        "from sklearn.preprocessing import StandardScaler\n",
        "\n",
        "def preprocess_keypoints(sequence):\n",
        "    \"\"\"\n",
        "    Preprocess keypoints for time series classification:\n",
        "    1. Handle missing values\n",
        "    2. Normalize coordinates\n",
        "    3. Compute velocities (1st derivative)\n",
        "    4. Flatten features per frame\n",
        "    \"\"\"\n",
        "    # 1. Fill missing values (zero confidence points)\n",
        "    conf_threshold = 0.2\n",
        "    for i in range(len(sequence)):\n",
        "        frame = sequence[i]\n",
        "        low_conf = frame[:, 2] < conf_threshold\n",
        "        frame[low_conf, :2] = np.nan  # Mark low confidence points\n",
        "\n",
        "    # 2. Interpolate missing values\n",
        "    from scipy import interpolate\n",
        "    for k in range(25):  # For each keypoint\n",
        "        x = sequence[:, k, 0]\n",
        "        y = sequence[:, k, 1]\n",
        "\n",
        "        # Create interpolation functions\n",
        "        valid = ~np.isnan(x)\n",
        "        indices = np.arange(len(x))\n",
        "\n",
        "        if np.sum(valid) > 1:  # Enough points to interpolate\n",
        "            x_interp = interpolate.interp1d(indices[valid], x[valid],\n",
        "                                           bounds_error=False,\n",
        "                                           fill_value=\"extrapolate\")\n",
        "            y_interp = interpolate.interp1d(indices[valid], y[valid],\n",
        "                                           bounds_error=False,\n",
        "                                           fill_value=\"extrapolate\")\n",
        "\n",
        "            sequence[:, k, 0] = x_interp(indices)\n",
        "            sequence[:, k, 1] = y_interp(indices)\n",
        "\n",
        "    # 3. Normalize coordinates\n",
        "    # Compute bounding box for each frame\n",
        "    for i in range(len(sequence)):\n",
        "        frame = sequence[i]\n",
        "        non_zero = frame[:, 2] > conf_threshold\n",
        "\n",
        "        if np.any(non_zero):\n",
        "            min_x, min_y = np.min(frame[non_zero, :2], axis=0)\n",
        "            max_x, max_y = np.max(frame[non_zero, :2], axis=0)\n",
        "\n",
        "            width = max_x - min_x\n",
        "            height = max_y - min_y\n",
        "\n",
        "            if width > 0 and height > 0:\n",
        "                # Normalize to 0-1 range\n",
        "                frame[:, 0] = (frame[:, 0] - min_x) / width\n",
        "                frame[:, 1] = (frame[:, 1] - min_y) / height\n",
        "\n",
        "    # 4. Compute velocities (1st derivative)\n",
        "    velocities = np.diff(sequence[:, :, :2], axis=0)\n",
        "    # Pad to same length\n",
        "    velocities = np.pad(velocities, ((0, 1), (0, 0), (0, 0)))\n",
        "\n",
        "    # 5. Combine positions and velocities\n",
        "    combined = np.concatenate([\n",
        "        sequence[:, :, :2],  # Positions\n",
        "        velocities,           # Velocities\n",
        "        sequence[:, :, [2]]   # Confidence\n",
        "    ], axis=2)\n",
        "\n",
        "    # 6. Flatten per frame: (frames, 25 * 5) = (frames, 125)\n",
        "    # Ensure we always return a 2D array\n",
        "    flattened = combined.reshape(combined.shape[0], -1)\n",
        "\n",
        "    # If only one frame exists, ensure it's still 2D\n",
        "    if flattened.ndim == 1:\n",
        "        flattened = flattened.reshape(1, -1)\n",
        "\n",
        "    return flattened\n",
        "\n",
        "# Preprocess keypoints\n",
        "processed_data = preprocess_keypoints(keypoints_sequence)\n",
        "print(\"Processed data shape:\", processed_data.shape)"
      ]
    },
    {
      "cell_type": "markdown",
      "metadata": {
        "id": "CN8dPVP5dz_g"
      },
      "source": [
        "# Detect with AlphaPose"
      ]
    },
    {
      "cell_type": "markdown",
      "metadata": {
        "id": "127hkGHKiulK"
      },
      "source": [
        "## Install Alphapose"
      ]
    },
    {
      "cell_type": "code",
      "execution_count": null,
      "metadata": {
        "colab": {
          "base_uri": "https://localhost:8080/"
        },
        "collapsed": true,
        "id": "xS0Fk3cCdWj2",
        "outputId": "6945e90d-4d5e-4245-bd61-2793f453084e"
      },
      "outputs": [],
      "source": [
        "!git clone https://github.com/MVIG-SJTU/AlphaPose.git\n",
        "%cd AlphaPose"
      ]
    },
    {
      "cell_type": "code",
      "execution_count": null,
      "metadata": {
        "colab": {
          "base_uri": "https://localhost:8080/"
        },
        "collapsed": true,
        "id": "SgRYeHEP_215",
        "outputId": "a94a2625-1103-431a-c2d8-0a6703c21c51"
      },
      "outputs": [],
      "source": [
        "import os\n",
        "os.environ['PATH'] = '/usr/local/cuda/bin:' + os.environ['PATH']\n",
        "os.environ['LD_LIBRARY_PATH'] = '/usr/local/cuda/lib64:' + os.environ.get('LD_LIBRARY_PATH', '')\n",
        "\n",
        "!pip install cython cython-bbox\n",
        "!sudo apt-get install libyaml-dev"
      ]
    },
    {
      "cell_type": "code",
      "execution_count": null,
      "metadata": {
        "colab": {
          "base_uri": "https://localhost:8080/"
        },
        "collapsed": true,
        "id": "wduijAtUdkGw",
        "outputId": "220d0098-1309-4a99-9b48-188779803641"
      },
      "outputs": [],
      "source": [
        "!python3 setup.py build develop --user"
      ]
    },
    {
      "cell_type": "code",
      "execution_count": null,
      "metadata": {
        "colab": {
          "base_uri": "https://localhost:8080/",
          "height": 225
        },
        "collapsed": true,
        "id": "0bymZGGbkFKJ",
        "outputId": "f79907e3-cc04-42ad-e2fe-0e082653cc2d"
      },
      "outputs": [],
      "source": [
        "import gdown\n",
        "\n",
        "# downloading model\n",
        "url = 'https://drive.google.com/open?id=1kfyedqyn8exjbbNmYq8XGd2EooQjPtF9'\n",
        "output_path = 'pretrained_models/fast_421_res152_256x192.pth'\n",
        "gdown.download(url, output_path, quiet=False,fuzzy=True)\n",
        "\n",
        "# downloading detector\n",
        "!mkdir detector/yolo/data\n",
        "url = 'https://drive.google.com/open?id=1D47msNOOiJKvPOXlnpyzdKA3k6E97NTC'\n",
        "output_path = 'detector/yolo/data/yolov3-spp.weights'\n",
        "gdown.download(url, output_path, quiet=False,fuzzy=True)"
      ]
    },
    {
      "cell_type": "markdown",
      "metadata": {
        "id": "yn04fNBqmRTA"
      },
      "source": [
        "## get alphapose keypoints"
      ]
    },
    {
      "cell_type": "markdown",
      "metadata": {
        "id": "vUGasTlnbFak"
      },
      "source": [
        "### extract json keypoints"
      ]
    },
    {
      "cell_type": "code",
      "execution_count": null,
      "metadata": {
        "colab": {
          "base_uri": "https://localhost:8080/"
        },
        "collapsed": true,
        "id": "b3-XF27xGGJx",
        "outputId": "28fceac5-d5d6-470a-8b53-3d353dfe0e8d"
      },
      "outputs": [],
      "source": [
        "!pip3 install cython-bbox"
      ]
    },
    {
      "cell_type": "code",
      "execution_count": null,
      "metadata": {
        "colab": {
          "base_uri": "https://localhost:8080/"
        },
        "id": "9kZv4ExTkzRU",
        "outputId": "4ba35a6c-dd89-414c-bb0e-69a6686a1406"
      },
      "outputs": [],
      "source": [
        "%cd AlphaPose/"
      ]
    },
    {
      "cell_type": "code",
      "execution_count": null,
      "metadata": {
        "id": "QVpb-D_WnU9w"
      },
      "outputs": [],
      "source": [
        "cfg_file = \"/content/AlphaPose/configs/coco/resnet/256x192_res152_lr1e-3_1x-duc.yaml\"\n",
        "trained_model = '/content/AlphaPose/pretrained_models/fast_421_res152_256x192.pth'\n",
        "path_to_video = '/content/drive/MyDrive/poseEstRawVids/bs_front_correct_5a1aa285_pnumjerico.mp4'"
      ]
    },
    {
      "cell_type": "code",
      "execution_count": null,
      "metadata": {
        "id": "q9qB9tpxmac9"
      },
      "outputs": [],
      "source": [
        "!python scripts/demo_inference.py --cfg {cfg_file} --checkpoint {trained_model} --video {path_to_video} --format 'open' --outdir examples/res --detbatch 32 --debug"
      ]
    },
    {
      "cell_type": "code",
      "execution_count": null,
      "metadata": {
        "colab": {
          "base_uri": "https://localhost:8080/"
        },
        "id": "Fm2sqtaep822",
        "outputId": "9d688874-80b3-44ee-9908-67d38f66333f"
      },
      "outputs": [],
      "source": [
        "#test img\n",
        "!python scripts/demo_inference.py --cfg {cfg_file} --checkpoint {trained_model} --image test.png --format 'open' --outdir examples/res --save_img --debug --min_box_area 100"
      ]
    },
    {
      "cell_type": "markdown",
      "metadata": {
        "id": "XInqPfdzbBit"
      },
      "source": [
        "### json keypoints to time series"
      ]
    },
    {
      "cell_type": "code",
      "execution_count": null,
      "metadata": {
        "collapsed": true,
        "id": "0tGH4BY9bJey"
      },
      "outputs": [],
      "source": [
        "import json\n",
        "import pprint\n",
        "\n",
        "data = json.load(open('/content/AlphaPose/examples/res/alphapose-results.json', 'rb'))\n",
        "pprint.pprint(data, depth=2)"
      ]
    },
    {
      "cell_type": "markdown",
      "metadata": {
        "id": "e8uGYYG6bffT"
      },
      "source": [
        "# Detect with RTM Pose"
      ]
    },
    {
      "cell_type": "markdown",
      "metadata": {
        "id": "W3xinqs7c0Yo"
      },
      "source": [
        "## Install RTMPose"
      ]
    },
    {
      "cell_type": "code",
      "execution_count": null,
      "metadata": {
        "colab": {
          "base_uri": "https://localhost:8080/",
          "height": 915
        },
        "collapsed": true,
        "id": "0U4PKyaZc2W-",
        "outputId": "cd328dec-16ec-481f-a50e-c04b3ba48fb9"
      },
      "outputs": [],
      "source": [
        "!pip install rtmlib -i https://pypi.org/simple\n",
        "!pip install numpy opencv-python opencv-contrib-python onnxruntime onnxruntime-gpu"
      ]
    },
    {
      "cell_type": "code",
      "execution_count": null,
      "metadata": {
        "colab": {
          "base_uri": "https://localhost:8080/",
          "height": 602
        },
        "id": "ivlo-CIIDVmt",
        "outputId": "c98327fe-350e-4e41-aa3d-6db7a7c880b5"
      },
      "outputs": [],
      "source": [
        "import cv2\n",
        "\n",
        "from rtmlib import BodyWithFeet, Body, draw_skeleton\n",
        "from google.colab.patches import cv2_imshow\n",
        "\n",
        "device = 'cuda'  # cpu, cuda, mps\n",
        "backend = 'onnxruntime'  # opencv, onnxruntime, openvino\n",
        "img = cv2.imread('test.png')\n",
        "\n",
        "openpose_skeleton = False  # True for openpose-style, False for mmpose-style\n",
        "\n",
        "wholebody = BodyWithFeet(to_openpose=openpose_skeleton,\n",
        "                  backend=backend, device=device)\n",
        "\n",
        "keypoints, scores = wholebody(img)\n",
        "\n",
        "img_show = draw_skeleton(img, keypoints, scores, kpt_thr=0.5)\n",
        "cv2_imshow(img_show)"
      ]
    },
    {
      "cell_type": "code",
      "execution_count": null,
      "metadata": {
        "colab": {
          "base_uri": "https://localhost:8080/"
        },
        "id": "wLKxtpFYH1_C",
        "outputId": "da8f8c1a-ed67-4f87-8ba1-6ccc01b74b20"
      },
      "outputs": [],
      "source": [
        "keypoints"
      ]
    },
    {
      "cell_type": "code",
      "execution_count": null,
      "metadata": {
        "colab": {
          "base_uri": "https://localhost:8080/"
        },
        "id": "f2PJo66_Jzlx",
        "outputId": "f09f727a-9dc5-4535-9861-aaea4087103c"
      },
      "outputs": [],
      "source": [
        "print(keypoints.shape)"
      ]
    },
    {
      "cell_type": "code",
      "execution_count": null,
      "metadata": {
        "colab": {
          "base_uri": "https://localhost:8080/"
        },
        "id": "6sg77lHJP8Du",
        "outputId": "226898d6-2809-4cfc-ed58-c758dab83370"
      },
      "outputs": [],
      "source": [
        "scores"
      ]
    },
    {
      "cell_type": "markdown",
      "metadata": {
        "id": "WXmYq_23QZ09"
      },
      "source": [
        "# Detect with MediaPipe"
      ]
    },
    {
      "cell_type": "code",
      "execution_count": null,
      "metadata": {
        "colab": {
          "base_uri": "https://localhost:8080/",
          "height": 422
        },
        "collapsed": true,
        "id": "8LiBju6GQicp",
        "outputId": "cdfd702a-abdb-48f2-cc15-8ccfa7a70b74"
      },
      "outputs": [],
      "source": [
        "!pip install -q mediapipe\n",
        "!pip install numpy==2.3.0\n",
        "\n",
        "!wget -O pose_landmarker.task -q https://storage.googleapis.com/mediapipe-models/pose_landmarker/pose_landmarker_heavy/float16/1/pose_landmarker_heavy.task"
      ]
    },
    {
      "cell_type": "code",
      "execution_count": null,
      "metadata": {
        "id": "JoRM2N6cT1Yh"
      },
      "outputs": [],
      "source": [
        "from mediapipe import solutions\n",
        "from mediapipe.framework.formats import landmark_pb2\n",
        "import numpy as np\n",
        "import cv2 # Import cv2 for color conversion\n",
        "\n",
        "def draw_landmarks_on_image(rgb_image, detection_result):\n",
        "  pose_landmarks_list = detection_result.pose_landmarks\n",
        "  # Convert RGB to BGR for OpenCV drawing functions\n",
        "  annotated_image = cv2.cvtColor(np.copy(rgb_image), cv2.COLOR_RGB2BGR)\n",
        "\n",
        "  # Loop through the detected poses to visualize.\n",
        "  for idx in range(len(pose_landmarks_list)):\n",
        "    pose_landmarks = pose_landmarks_list[idx]\n",
        "\n",
        "    # Draw the pose landmarks.\n",
        "    pose_landmarks_proto = landmark_pb2.NormalizedLandmarkList()\n",
        "    pose_landmarks_proto.landmark.extend([\n",
        "      landmark_pb2.NormalizedLandmark(x=landmark.x, y=landmark.y, z=landmark.z) for landmark in pose_landmarks\n",
        "    ])\n",
        "    solutions.drawing_utils.draw_landmarks(\n",
        "      annotated_image,\n",
        "      pose_landmarks_proto,\n",
        "      solutions.pose.POSE_CONNECTIONS,\n",
        "      solutions.drawing_styles.get_default_pose_landmarks_style())\n",
        "  return annotated_image"
      ]
    },
    {
      "cell_type": "code",
      "execution_count": null,
      "metadata": {
        "colab": {
          "base_uri": "https://localhost:8080/",
          "height": 585
        },
        "id": "qG7ziJQ4VFXj",
        "outputId": "71c23f92-8b83-41b2-b301-6c64464e37c0"
      },
      "outputs": [],
      "source": [
        "# STEP 1: Import the necessary modules.\n",
        "import mediapipe as mp\n",
        "from mediapipe.tasks import python\n",
        "from mediapipe.tasks.python import vision\n",
        "from google.colab.patches import cv2_imshow\n",
        "\n",
        "# STEP 2: Create an PoseLandmarker object.\n",
        "base_options = python.BaseOptions(model_asset_path='pose_landmarker.task')\n",
        "options = vision.PoseLandmarkerOptions(\n",
        "    base_options=base_options,\n",
        "    output_segmentation_masks=False)\n",
        "detector = vision.PoseLandmarker.create_from_options(options)\n",
        "\n",
        "# STEP 3: Load the input image.\n",
        "image = mp.Image.create_from_file(\"test.png\")\n",
        "\n",
        "# STEP 4: Detect pose landmarks from the input image.\n",
        "detection_result = detector.detect(image)\n",
        "\n",
        "# STEP 5: Process the detection result. In this case, visualize it.\n",
        "annotated_image = draw_landmarks_on_image(image.numpy_view(), detection_result)\n",
        "cv2_imshow(cv2.cvtColor(annotated_image, cv2.COLOR_RGB2BGR))"
      ]
    },
    {
      "cell_type": "code",
      "execution_count": null,
      "metadata": {
        "colab": {
          "base_uri": "https://localhost:8080/"
        },
        "collapsed": true,
        "id": "3aYy-sGQW1sm",
        "outputId": "6d702a04-6731-47be-b8ba-71d32467c7e9"
      },
      "outputs": [],
      "source": [
        "detection_result.pose_landmarks"
      ]
    },
    {
      "cell_type": "code",
      "execution_count": null,
      "metadata": {
        "colab": {
          "base_uri": "https://localhost:8080/"
        },
        "id": "ba21ebd3",
        "outputId": "ce1b8f23-8a56-40da-ce6e-0a9378ccd52a"
      },
      "outputs": [],
      "source": [
        "import numpy as np\n",
        "import json\n",
        "\n",
        "# Step 1: Define Keypoint Mapping\n",
        "# This mapping is based on common conventions.\n",
        "# You might need to verify against official documentation if discrepancies arise.\n",
        "# MediaPipe (33 keypoints) to OpenPose (25 keypoints)\n",
        "# MediaPipe indices: https://google.github.io/mediapipe/solutions/pose#pose_landmarks_lite\n",
        "# OpenPose indices: https://github.com/CMU-Perceptual-Computing-Lab/openpose/blob/master/doc/output.md#pose-output-format-body_25\n",
        "mediapipe_to_openpose_map = {\n",
        "    0: 0,   # Nose\n",
        "    1: None,  # Left eye inner - No direct equivalent in provided OpenPose list\n",
        "    2: 16,  # Left eye\n",
        "    3: None,  # Left eye outer - No direct equivalent in provided OpenPose list\n",
        "    4: None,  # Right eye inner - No direct equivalent in provided OpenPose list\n",
        "    5: 15,  # Right eye\n",
        "    6: None,  # Right eye outer - No direct equivalent in provided OpenPose list\n",
        "    7: 18,  # Left ear\n",
        "    8: 17,   # Right ear\n",
        "    9: None,  # Mouth left - No direct equivalent\n",
        "    10: None, # Mouth right - No direct equivalent\n",
        "    11: 5,  # Left shoulder\n",
        "    12: 2,  # Right shoulder\n",
        "    13: 6,  # Left elbow\n",
        "    14: 3,  # Right elbow\n",
        "    15: 7,  # Left wrist\n",
        "    16: 4,  # Right wrist\n",
        "    17: None, # Left pinky - No direct equivalent\n",
        "    18: None, # Left index - No direct equivalent\n",
        "    19: None, # Left thumb - No direct equivalent\n",
        "    20: None, # Right pinky - No direct equivalent\n",
        "    21: None, # Right index - No direct equivalent\n",
        "    22: None, # Right thumb - No direct equivalent\n",
        "    23: 12, # Left hip\n",
        "    24: 9, # Right hip\n",
        "    25: 13, # Left knee\n",
        "    26: 10, # Right knee\n",
        "    27: 14, # Left ankle\n",
        "    28: 11, # Right ankle\n",
        "    29: 21, # Left heel\n",
        "    30: 24, # Right heel\n",
        "    31: 19, # Left foot index (LBigToe)\n",
        "    32: 22  # Right foot index (RBigToe)\n",
        "}\n",
        "\n",
        "# Step 2 & 3: Create Conversion Function and Initialize Structure\n",
        "def convert_mediapipe_to_openpose(mediapipe_landmarks_list):\n",
        "    \"\"\"\n",
        "    Converts MediaPipe pose landmarks to OpenPose format.\n",
        "\n",
        "    Args:\n",
        "        mediapipe_landmarks_list: A list of lists, where each inner list\n",
        "                                   contains NormalizedLandmark objects for a person.\n",
        "\n",
        "    Returns:\n",
        "        A list of dictionaries, each representing keypoints for a person\n",
        "        in OpenPose format (25 keypoints: [x, y, confidence]).\n",
        "    \"\"\"\n",
        "    openpose_data = []\n",
        "\n",
        "    for person_landmarks in mediapipe_landmarks_list:\n",
        "        # Initialize OpenPose structure (25 keypoints, x, y, confidence)\n",
        "        openpose_keypoints = np.zeros((25, 3), dtype=np.float32)\n",
        "\n",
        "        # Step 4: Map and Populate Keypoints\n",
        "        for mp_idx, op_idx in mediapipe_to_openpose_map.items():\n",
        "            if op_idx is not None and mp_idx < len(person_landmarks):\n",
        "                landmark = person_landmarks[mp_idx]\n",
        "                # Use visibility as confidence, presence can also be considered\n",
        "                confidence = landmark.visibility if landmark.visibility is not None else landmark.presence\n",
        "                openpose_keypoints[op_idx] = [landmark.x, landmark.y, confidence]\n",
        "            # Step 5: Handle Missing Keypoints - Already initialized to zeros\n",
        "\n",
        "        # Convert NumPy array to list of lists, representing the 25 keypoints\n",
        "        openpose_keypoints_list = openpose_keypoints.tolist()\n",
        "        openpose_data.append({\"pose_keypoints_2d\": openpose_keypoints_list})\n",
        "\n",
        "\n",
        "    return openpose_data\n",
        "\n",
        "# Step 6: Test Conversion with sample data from cell 3aYy-sGQW1sm output\n",
        "# Assuming 'detection_result' from cell qG7ziJQ4VFXj is available\n",
        "if 'detection_result' in locals() and hasattr(detection_result, 'pose_landmarks'):\n",
        "    sample_mediapipe_landmarks = detection_result.pose_landmarks\n",
        "    openpose_formatted_data = convert_mediapipe_to_openpose(sample_mediapipe_landmarks)\n",
        "\n",
        "    # Print the converted data (formatted for readability)\n",
        "    print(\"Converted OpenPose data:\")\n",
        "    print(json.dumps(openpose_formatted_data, indent=2))\n",
        "else:\n",
        "    print(\"MediaPipe detection_result not found. Please run cell qG7ziJQ4VFXj first.\")"
      ]
    },
    {
      "cell_type": "code",
      "execution_count": null,
      "metadata": {
        "colab": {
          "base_uri": "https://localhost:8080/"
        },
        "id": "Lwy4vNEdepXX",
        "outputId": "1f76056a-c163-473e-da25-3b7734588eb3"
      },
      "outputs": [],
      "source": [
        "openpose_formatted_data"
      ]
    },
    {
      "cell_type": "markdown",
      "metadata": {
        "id": "euYaEVhtlm_Q"
      },
      "source": [
        "# format for rocket classifier"
      ]
    },
    {
      "cell_type": "code",
      "execution_count": null,
      "metadata": {
        "id": "fyAcoso9lhRr"
      },
      "outputs": [],
      "source": [
        "def create_rocket_dataset(processed_data, labels, output_path, problem_name=\"PoseClassification\"):\n",
        "    \"\"\"\n",
        "    Create dataset in sktime format with proper length specification\n",
        "    \"\"\"\n",
        "    import pandas as pd\n",
        "    import numpy as np\n",
        "    from sktime.datasets import write_dataframe_to_tsfile\n",
        "\n",
        "    # Ensure input is list of time series (even for single video)\n",
        "    if not isinstance(processed_data, list):\n",
        "        processed_data = [processed_data]\n",
        "\n",
        "    # Convert to nested DataFrame format\n",
        "    df_list = []\n",
        "\n",
        "    for i, video_data in enumerate(processed_data):\n",
        "        # Ensure 2D array: [time, features]\n",
        "        if video_data.ndim == 1:\n",
        "            video_data = video_data.reshape(-1, 1)\n",
        "\n",
        "        n_features = video_data.shape[1]\n",
        "        row_dict = {}\n",
        "\n",
        "        for j in range(n_features):\n",
        "            row_dict[f\"dim_{j}\"] = pd.Series(video_data[:, j])\n",
        "\n",
        "        df_list.append(row_dict)\n",
        "\n",
        "    df = pd.DataFrame(df_list)\n",
        "\n",
        "    # Determine time series properties\n",
        "    lengths = [len(video_data) for video_data in processed_data]\n",
        "    equal_length = len(set(lengths)) == 1\n",
        "    series_length = lengths[0] if equal_length else None\n",
        "\n",
        "    # Write to ts file\n",
        "    write_dataframe_to_tsfile(\n",
        "        data=df,\n",
        "        path=output_path,\n",
        "        problem_name=problem_name,\n",
        "        class_label=np.unique(labels).tolist(),\n",
        "        class_value_list=labels,\n",
        "        comment=\"OpenPose keypoints time series\",\n",
        "        fold=\"_TRAIN\",\n",
        "        equal_length=equal_length,\n",
        "        series_length=series_length\n",
        "    )\n",
        "    print(f\"Dataset saved to {output_path}\")"
      ]
    },
    {
      "cell_type": "code",
      "execution_count": null,
      "metadata": {
        "id": "NuvG63GdlvhM"
      },
      "outputs": [],
      "source": [
        "# Wrap single video in a list to match expected format\n",
        "processed_data_list = [processed_data]\n",
        "\n",
        "# Convert labels to NumPy array (one label per video)\n",
        "labels = np.array([\"exercise1\"])  # Use actual labels for your videos\n",
        "\n",
        "# Create dataset\n",
        "create_rocket_dataset(processed_data_list, labels, \"/content/dataset/POSE_TRAIN.ts\")"
      ]
    }
  ],
  "metadata": {
    "accelerator": "GPU",
    "colab": {
      "collapsed_sections": [
        "rONEHzcKSLkn",
        "-o0BOAlCi4a9",
        "jZio_bXOTWSu",
        "ohQFderPnBWo",
        "dFJT4Am0nP8L",
        "CN8dPVP5dz_g",
        "e8uGYYG6bffT",
        "euYaEVhtlm_Q"
      ],
      "gpuType": "T4",
      "provenance": []
    },
    "kernelspec": {
      "display_name": "Python 3",
      "name": "python3"
    },
    "language_info": {
      "name": "python"
    },
    "widgets": {
      "application/vnd.jupyter.widget-state+json": {
        "032f6967223d41ef9e08ac577a8ded14": {
          "model_module": "@jupyter-widgets/controls",
          "model_module_version": "1.5.0",
          "model_name": "HTMLModel",
          "state": {
            "_dom_classes": [],
            "_model_module": "@jupyter-widgets/controls",
            "_model_module_version": "1.5.0",
            "_model_name": "HTMLModel",
            "_view_count": null,
            "_view_module": "@jupyter-widgets/controls",
            "_view_module_version": "1.5.0",
            "_view_name": "HTMLView",
            "description": "",
            "description_tooltip": null,
            "layout": "IPY_MODEL_98379af4c4004da18344d3036fe61a49",
            "placeholder": "​",
            "style": "IPY_MODEL_1efb26661859478bb724e35edb04d474",
            "value": "Generating train split: 100%"
          }
        },
        "07f407ac74be44be8a13928f908d20ce": {
          "model_module": "@jupyter-widgets/base",
          "model_module_version": "1.2.0",
          "model_name": "LayoutModel",
          "state": {
            "_model_module": "@jupyter-widgets/base",
            "_model_module_version": "1.2.0",
            "_model_name": "LayoutModel",
            "_view_count": null,
            "_view_module": "@jupyter-widgets/base",
            "_view_module_version": "1.2.0",
            "_view_name": "LayoutView",
            "align_content": null,
            "align_items": null,
            "align_self": null,
            "border": null,
            "bottom": null,
            "display": null,
            "flex": null,
            "flex_flow": null,
            "grid_area": null,
            "grid_auto_columns": null,
            "grid_auto_flow": null,
            "grid_auto_rows": null,
            "grid_column": null,
            "grid_gap": null,
            "grid_row": null,
            "grid_template_areas": null,
            "grid_template_columns": null,
            "grid_template_rows": null,
            "height": null,
            "justify_content": null,
            "justify_items": null,
            "left": null,
            "margin": null,
            "max_height": null,
            "max_width": null,
            "min_height": null,
            "min_width": null,
            "object_fit": null,
            "object_position": null,
            "order": null,
            "overflow": null,
            "overflow_x": null,
            "overflow_y": null,
            "padding": null,
            "right": null,
            "top": null,
            "visibility": null,
            "width": null
          }
        },
        "0ae3c5f2907d466e8dcbf5b6ab49a8a0": {
          "model_module": "@jupyter-widgets/controls",
          "model_module_version": "1.5.0",
          "model_name": "HBoxModel",
          "state": {
            "_dom_classes": [],
            "_model_module": "@jupyter-widgets/controls",
            "_model_module_version": "1.5.0",
            "_model_name": "HBoxModel",
            "_view_count": null,
            "_view_module": "@jupyter-widgets/controls",
            "_view_module_version": "1.5.0",
            "_view_name": "HBoxView",
            "box_style": "",
            "children": [
              "IPY_MODEL_032f6967223d41ef9e08ac577a8ded14",
              "IPY_MODEL_bc92da07e4d441ceba20565df0497602",
              "IPY_MODEL_fc33a95172774253b21734bbfa6500e9"
            ],
            "layout": "IPY_MODEL_fd9ceb019adc47a6ae3e3f867cc7c25b"
          }
        },
        "0b1ec1a2282441a6a1caf2080bd8bb52": {
          "model_module": "@jupyter-widgets/controls",
          "model_module_version": "1.5.0",
          "model_name": "ProgressStyleModel",
          "state": {
            "_model_module": "@jupyter-widgets/controls",
            "_model_module_version": "1.5.0",
            "_model_name": "ProgressStyleModel",
            "_view_count": null,
            "_view_module": "@jupyter-widgets/base",
            "_view_module_version": "1.2.0",
            "_view_name": "StyleView",
            "bar_color": null,
            "description_width": ""
          }
        },
        "0cc94ec7c0b74b24a19c367bd273f4a2": {
          "model_module": "@jupyter-widgets/base",
          "model_module_version": "1.2.0",
          "model_name": "LayoutModel",
          "state": {
            "_model_module": "@jupyter-widgets/base",
            "_model_module_version": "1.2.0",
            "_model_name": "LayoutModel",
            "_view_count": null,
            "_view_module": "@jupyter-widgets/base",
            "_view_module_version": "1.2.0",
            "_view_name": "LayoutView",
            "align_content": null,
            "align_items": null,
            "align_self": null,
            "border": null,
            "bottom": null,
            "display": null,
            "flex": null,
            "flex_flow": null,
            "grid_area": null,
            "grid_auto_columns": null,
            "grid_auto_flow": null,
            "grid_auto_rows": null,
            "grid_column": null,
            "grid_gap": null,
            "grid_row": null,
            "grid_template_areas": null,
            "grid_template_columns": null,
            "grid_template_rows": null,
            "height": null,
            "justify_content": null,
            "justify_items": null,
            "left": null,
            "margin": null,
            "max_height": null,
            "max_width": null,
            "min_height": null,
            "min_width": null,
            "object_fit": null,
            "object_position": null,
            "order": null,
            "overflow": null,
            "overflow_x": null,
            "overflow_y": null,
            "padding": null,
            "right": null,
            "top": null,
            "visibility": null,
            "width": null
          }
        },
        "0d64c95ddd37414b9ce70218a78c6212": {
          "model_module": "@jupyter-widgets/controls",
          "model_module_version": "1.5.0",
          "model_name": "HTMLModel",
          "state": {
            "_dom_classes": [],
            "_model_module": "@jupyter-widgets/controls",
            "_model_module_version": "1.5.0",
            "_model_name": "HTMLModel",
            "_view_count": null,
            "_view_module": "@jupyter-widgets/controls",
            "_view_module_version": "1.5.0",
            "_view_name": "HTMLView",
            "description": "",
            "description_tooltip": null,
            "layout": "IPY_MODEL_82774eb13e144ca09b2cb54155e93d6c",
            "placeholder": "​",
            "style": "IPY_MODEL_e5244c7dfcee4e668ca300216122b2f4",
            "value": " 317M/317M [00:04&lt;00:00, 97.8MB/s]"
          }
        },
        "1c9d644e1f06481bbadd0f9ee0c0ae2f": {
          "model_module": "@jupyter-widgets/base",
          "model_module_version": "1.2.0",
          "model_name": "LayoutModel",
          "state": {
            "_model_module": "@jupyter-widgets/base",
            "_model_module_version": "1.2.0",
            "_model_name": "LayoutModel",
            "_view_count": null,
            "_view_module": "@jupyter-widgets/base",
            "_view_module_version": "1.2.0",
            "_view_name": "LayoutView",
            "align_content": null,
            "align_items": null,
            "align_self": null,
            "border": null,
            "bottom": null,
            "display": null,
            "flex": null,
            "flex_flow": null,
            "grid_area": null,
            "grid_auto_columns": null,
            "grid_auto_flow": null,
            "grid_auto_rows": null,
            "grid_column": null,
            "grid_gap": null,
            "grid_row": null,
            "grid_template_areas": null,
            "grid_template_columns": null,
            "grid_template_rows": null,
            "height": null,
            "justify_content": null,
            "justify_items": null,
            "left": null,
            "margin": null,
            "max_height": null,
            "max_width": null,
            "min_height": null,
            "min_width": null,
            "object_fit": null,
            "object_position": null,
            "order": null,
            "overflow": null,
            "overflow_x": null,
            "overflow_y": null,
            "padding": null,
            "right": null,
            "top": null,
            "visibility": null,
            "width": null
          }
        },
        "1efb26661859478bb724e35edb04d474": {
          "model_module": "@jupyter-widgets/controls",
          "model_module_version": "1.5.0",
          "model_name": "DescriptionStyleModel",
          "state": {
            "_model_module": "@jupyter-widgets/controls",
            "_model_module_version": "1.5.0",
            "_model_name": "DescriptionStyleModel",
            "_view_count": null,
            "_view_module": "@jupyter-widgets/base",
            "_view_module_version": "1.2.0",
            "_view_name": "StyleView",
            "description_width": ""
          }
        },
        "21d102d5236d4f4e85d4bb9cc26987ea": {
          "model_module": "@jupyter-widgets/controls",
          "model_module_version": "1.5.0",
          "model_name": "FloatProgressModel",
          "state": {
            "_dom_classes": [],
            "_model_module": "@jupyter-widgets/controls",
            "_model_module_version": "1.5.0",
            "_model_name": "FloatProgressModel",
            "_view_count": null,
            "_view_module": "@jupyter-widgets/controls",
            "_view_module_version": "1.5.0",
            "_view_name": "ProgressView",
            "bar_style": "success",
            "description": "",
            "description_tooltip": null,
            "layout": "IPY_MODEL_4e20b4b83ec34feab6c472220f535705",
            "max": 532,
            "min": 0,
            "orientation": "horizontal",
            "style": "IPY_MODEL_96fc3e5c8fe94c92a8972cf1703520d3",
            "value": 532
          }
        },
        "254820fb87fe4ce792c9c10984df0714": {
          "model_module": "@jupyter-widgets/controls",
          "model_module_version": "1.5.0",
          "model_name": "DescriptionStyleModel",
          "state": {
            "_model_module": "@jupyter-widgets/controls",
            "_model_module_version": "1.5.0",
            "_model_name": "DescriptionStyleModel",
            "_view_count": null,
            "_view_module": "@jupyter-widgets/base",
            "_view_module_version": "1.2.0",
            "_view_name": "StyleView",
            "description_width": ""
          }
        },
        "27e2f116f67f4644ae14bf472e9baeea": {
          "model_module": "@jupyter-widgets/controls",
          "model_module_version": "1.5.0",
          "model_name": "DescriptionStyleModel",
          "state": {
            "_model_module": "@jupyter-widgets/controls",
            "_model_module_version": "1.5.0",
            "_model_name": "DescriptionStyleModel",
            "_view_count": null,
            "_view_module": "@jupyter-widgets/base",
            "_view_module_version": "1.2.0",
            "_view_name": "StyleView",
            "description_width": ""
          }
        },
        "281d991979f647a8ba3454c4ef751308": {
          "model_module": "@jupyter-widgets/base",
          "model_module_version": "1.2.0",
          "model_name": "LayoutModel",
          "state": {
            "_model_module": "@jupyter-widgets/base",
            "_model_module_version": "1.2.0",
            "_model_name": "LayoutModel",
            "_view_count": null,
            "_view_module": "@jupyter-widgets/base",
            "_view_module_version": "1.2.0",
            "_view_name": "LayoutView",
            "align_content": null,
            "align_items": null,
            "align_self": null,
            "border": null,
            "bottom": null,
            "display": null,
            "flex": null,
            "flex_flow": null,
            "grid_area": null,
            "grid_auto_columns": null,
            "grid_auto_flow": null,
            "grid_auto_rows": null,
            "grid_column": null,
            "grid_gap": null,
            "grid_row": null,
            "grid_template_areas": null,
            "grid_template_columns": null,
            "grid_template_rows": null,
            "height": null,
            "justify_content": null,
            "justify_items": null,
            "left": null,
            "margin": null,
            "max_height": null,
            "max_width": null,
            "min_height": null,
            "min_width": null,
            "object_fit": null,
            "object_position": null,
            "order": null,
            "overflow": null,
            "overflow_x": null,
            "overflow_y": null,
            "padding": null,
            "right": null,
            "top": null,
            "visibility": null,
            "width": null
          }
        },
        "2bdb72e563b142e7b1b3a5f8eba0ecfa": {
          "model_module": "@jupyter-widgets/base",
          "model_module_version": "1.2.0",
          "model_name": "LayoutModel",
          "state": {
            "_model_module": "@jupyter-widgets/base",
            "_model_module_version": "1.2.0",
            "_model_name": "LayoutModel",
            "_view_count": null,
            "_view_module": "@jupyter-widgets/base",
            "_view_module_version": "1.2.0",
            "_view_name": "LayoutView",
            "align_content": null,
            "align_items": null,
            "align_self": null,
            "border": null,
            "bottom": null,
            "display": null,
            "flex": null,
            "flex_flow": null,
            "grid_area": null,
            "grid_auto_columns": null,
            "grid_auto_flow": null,
            "grid_auto_rows": null,
            "grid_column": null,
            "grid_gap": null,
            "grid_row": null,
            "grid_template_areas": null,
            "grid_template_columns": null,
            "grid_template_rows": null,
            "height": null,
            "justify_content": null,
            "justify_items": null,
            "left": null,
            "margin": null,
            "max_height": null,
            "max_width": null,
            "min_height": null,
            "min_width": null,
            "object_fit": null,
            "object_position": null,
            "order": null,
            "overflow": null,
            "overflow_x": null,
            "overflow_y": null,
            "padding": null,
            "right": null,
            "top": null,
            "visibility": null,
            "width": null
          }
        },
        "384ff9ea2b0042cf9d4ce417c3f44985": {
          "model_module": "@jupyter-widgets/controls",
          "model_module_version": "1.5.0",
          "model_name": "HTMLModel",
          "state": {
            "_dom_classes": [],
            "_model_module": "@jupyter-widgets/controls",
            "_model_module_version": "1.5.0",
            "_model_name": "HTMLModel",
            "_view_count": null,
            "_view_module": "@jupyter-widgets/controls",
            "_view_module_version": "1.5.0",
            "_view_name": "HTMLView",
            "description": "",
            "description_tooltip": null,
            "layout": "IPY_MODEL_f25c4a47ec674ca1927ffd0f1e69c306",
            "placeholder": "​",
            "style": "IPY_MODEL_cfd1815027c24baf996d2167cb39c1c5",
            "value": "data/train-00000-of-00001.parquet: 100%"
          }
        },
        "48de10c7f5a047d697cf599de188a902": {
          "model_module": "@jupyter-widgets/controls",
          "model_module_version": "1.5.0",
          "model_name": "ProgressStyleModel",
          "state": {
            "_model_module": "@jupyter-widgets/controls",
            "_model_module_version": "1.5.0",
            "_model_name": "ProgressStyleModel",
            "_view_count": null,
            "_view_module": "@jupyter-widgets/base",
            "_view_module_version": "1.2.0",
            "_view_name": "StyleView",
            "bar_color": null,
            "description_width": ""
          }
        },
        "4903bdd218ec4a3ebdf490679772e93a": {
          "model_module": "@jupyter-widgets/controls",
          "model_module_version": "1.5.0",
          "model_name": "FloatProgressModel",
          "state": {
            "_dom_classes": [],
            "_model_module": "@jupyter-widgets/controls",
            "_model_module_version": "1.5.0",
            "_model_name": "FloatProgressModel",
            "_view_count": null,
            "_view_module": "@jupyter-widgets/controls",
            "_view_module_version": "1.5.0",
            "_view_name": "ProgressView",
            "bar_style": "success",
            "description": "",
            "description_tooltip": null,
            "layout": "IPY_MODEL_281d991979f647a8ba3454c4ef751308",
            "max": 3921,
            "min": 0,
            "orientation": "horizontal",
            "style": "IPY_MODEL_48de10c7f5a047d697cf599de188a902",
            "value": 3921
          }
        },
        "4e20b4b83ec34feab6c472220f535705": {
          "model_module": "@jupyter-widgets/base",
          "model_module_version": "1.2.0",
          "model_name": "LayoutModel",
          "state": {
            "_model_module": "@jupyter-widgets/base",
            "_model_module_version": "1.2.0",
            "_model_name": "LayoutModel",
            "_view_count": null,
            "_view_module": "@jupyter-widgets/base",
            "_view_module_version": "1.2.0",
            "_view_name": "LayoutView",
            "align_content": null,
            "align_items": null,
            "align_self": null,
            "border": null,
            "bottom": null,
            "display": null,
            "flex": null,
            "flex_flow": null,
            "grid_area": null,
            "grid_auto_columns": null,
            "grid_auto_flow": null,
            "grid_auto_rows": null,
            "grid_column": null,
            "grid_gap": null,
            "grid_row": null,
            "grid_template_areas": null,
            "grid_template_columns": null,
            "grid_template_rows": null,
            "height": null,
            "justify_content": null,
            "justify_items": null,
            "left": null,
            "margin": null,
            "max_height": null,
            "max_width": null,
            "min_height": null,
            "min_width": null,
            "object_fit": null,
            "object_position": null,
            "order": null,
            "overflow": null,
            "overflow_x": null,
            "overflow_y": null,
            "padding": null,
            "right": null,
            "top": null,
            "visibility": null,
            "width": null
          }
        },
        "589fa636908b402d8f26abc5e40727a5": {
          "model_module": "@jupyter-widgets/base",
          "model_module_version": "1.2.0",
          "model_name": "LayoutModel",
          "state": {
            "_model_module": "@jupyter-widgets/base",
            "_model_module_version": "1.2.0",
            "_model_name": "LayoutModel",
            "_view_count": null,
            "_view_module": "@jupyter-widgets/base",
            "_view_module_version": "1.2.0",
            "_view_name": "LayoutView",
            "align_content": null,
            "align_items": null,
            "align_self": null,
            "border": null,
            "bottom": null,
            "display": null,
            "flex": null,
            "flex_flow": null,
            "grid_area": null,
            "grid_auto_columns": null,
            "grid_auto_flow": null,
            "grid_auto_rows": null,
            "grid_column": null,
            "grid_gap": null,
            "grid_row": null,
            "grid_template_areas": null,
            "grid_template_columns": null,
            "grid_template_rows": null,
            "height": null,
            "justify_content": null,
            "justify_items": null,
            "left": null,
            "margin": null,
            "max_height": null,
            "max_width": null,
            "min_height": null,
            "min_width": null,
            "object_fit": null,
            "object_position": null,
            "order": null,
            "overflow": null,
            "overflow_x": null,
            "overflow_y": null,
            "padding": null,
            "right": null,
            "top": null,
            "visibility": null,
            "width": null
          }
        },
        "5cc6790696d34e93929dc58eebdb3c0d": {
          "model_module": "@jupyter-widgets/controls",
          "model_module_version": "1.5.0",
          "model_name": "DescriptionStyleModel",
          "state": {
            "_model_module": "@jupyter-widgets/controls",
            "_model_module_version": "1.5.0",
            "_model_name": "DescriptionStyleModel",
            "_view_count": null,
            "_view_module": "@jupyter-widgets/base",
            "_view_module_version": "1.2.0",
            "_view_name": "StyleView",
            "description_width": ""
          }
        },
        "69af9121c3b94ade81e54cbd246aa5dc": {
          "model_module": "@jupyter-widgets/controls",
          "model_module_version": "1.5.0",
          "model_name": "HTMLModel",
          "state": {
            "_dom_classes": [],
            "_model_module": "@jupyter-widgets/controls",
            "_model_module_version": "1.5.0",
            "_model_name": "HTMLModel",
            "_view_count": null,
            "_view_module": "@jupyter-widgets/controls",
            "_view_module_version": "1.5.0",
            "_view_name": "HTMLView",
            "description": "",
            "description_tooltip": null,
            "layout": "IPY_MODEL_2bdb72e563b142e7b1b3a5f8eba0ecfa",
            "placeholder": "​",
            "style": "IPY_MODEL_a310a0b06cf64fdd92b88f290a73e84c",
            "value": "openpose_colab_build.tar.gz: 100%"
          }
        },
        "79df315bcc374ed0ade73a502b59fa48": {
          "model_module": "@jupyter-widgets/controls",
          "model_module_version": "1.5.0",
          "model_name": "FloatProgressModel",
          "state": {
            "_dom_classes": [],
            "_model_module": "@jupyter-widgets/controls",
            "_model_module_version": "1.5.0",
            "_model_name": "FloatProgressModel",
            "_view_count": null,
            "_view_module": "@jupyter-widgets/controls",
            "_view_module_version": "1.5.0",
            "_view_name": "ProgressView",
            "bar_style": "success",
            "description": "",
            "description_tooltip": null,
            "layout": "IPY_MODEL_c17212ecbdff4086bace9ad3f900e636",
            "max": 316748689,
            "min": 0,
            "orientation": "horizontal",
            "style": "IPY_MODEL_fbc3b47609694f698a34831d26f5dede",
            "value": 316748689
          }
        },
        "7de506eb683c4662a04c6f9b77766489": {
          "model_module": "@jupyter-widgets/controls",
          "model_module_version": "1.5.0",
          "model_name": "HTMLModel",
          "state": {
            "_dom_classes": [],
            "_model_module": "@jupyter-widgets/controls",
            "_model_module_version": "1.5.0",
            "_model_name": "HTMLModel",
            "_view_count": null,
            "_view_module": "@jupyter-widgets/controls",
            "_view_module_version": "1.5.0",
            "_view_name": "HTMLView",
            "description": "",
            "description_tooltip": null,
            "layout": "IPY_MODEL_d326f130963a49ca8aecca073b44abe6",
            "placeholder": "​",
            "style": "IPY_MODEL_27e2f116f67f4644ae14bf472e9baeea",
            "value": "README.md: 100%"
          }
        },
        "82774eb13e144ca09b2cb54155e93d6c": {
          "model_module": "@jupyter-widgets/base",
          "model_module_version": "1.2.0",
          "model_name": "LayoutModel",
          "state": {
            "_model_module": "@jupyter-widgets/base",
            "_model_module_version": "1.2.0",
            "_model_name": "LayoutModel",
            "_view_count": null,
            "_view_module": "@jupyter-widgets/base",
            "_view_module_version": "1.2.0",
            "_view_name": "LayoutView",
            "align_content": null,
            "align_items": null,
            "align_self": null,
            "border": null,
            "bottom": null,
            "display": null,
            "flex": null,
            "flex_flow": null,
            "grid_area": null,
            "grid_auto_columns": null,
            "grid_auto_flow": null,
            "grid_auto_rows": null,
            "grid_column": null,
            "grid_gap": null,
            "grid_row": null,
            "grid_template_areas": null,
            "grid_template_columns": null,
            "grid_template_rows": null,
            "height": null,
            "justify_content": null,
            "justify_items": null,
            "left": null,
            "margin": null,
            "max_height": null,
            "max_width": null,
            "min_height": null,
            "min_width": null,
            "object_fit": null,
            "object_position": null,
            "order": null,
            "overflow": null,
            "overflow_x": null,
            "overflow_y": null,
            "padding": null,
            "right": null,
            "top": null,
            "visibility": null,
            "width": null
          }
        },
        "8347b138c86f445f943a8186777b4749": {
          "model_module": "@jupyter-widgets/base",
          "model_module_version": "1.2.0",
          "model_name": "LayoutModel",
          "state": {
            "_model_module": "@jupyter-widgets/base",
            "_model_module_version": "1.2.0",
            "_model_name": "LayoutModel",
            "_view_count": null,
            "_view_module": "@jupyter-widgets/base",
            "_view_module_version": "1.2.0",
            "_view_name": "LayoutView",
            "align_content": null,
            "align_items": null,
            "align_self": null,
            "border": null,
            "bottom": null,
            "display": null,
            "flex": null,
            "flex_flow": null,
            "grid_area": null,
            "grid_auto_columns": null,
            "grid_auto_flow": null,
            "grid_auto_rows": null,
            "grid_column": null,
            "grid_gap": null,
            "grid_row": null,
            "grid_template_areas": null,
            "grid_template_columns": null,
            "grid_template_rows": null,
            "height": null,
            "justify_content": null,
            "justify_items": null,
            "left": null,
            "margin": null,
            "max_height": null,
            "max_width": null,
            "min_height": null,
            "min_width": null,
            "object_fit": null,
            "object_position": null,
            "order": null,
            "overflow": null,
            "overflow_x": null,
            "overflow_y": null,
            "padding": null,
            "right": null,
            "top": null,
            "visibility": null,
            "width": null
          }
        },
        "8e0891e3334e44cc8ae8eeb970bbc2ec": {
          "model_module": "@jupyter-widgets/controls",
          "model_module_version": "1.5.0",
          "model_name": "HTMLModel",
          "state": {
            "_dom_classes": [],
            "_model_module": "@jupyter-widgets/controls",
            "_model_module_version": "1.5.0",
            "_model_name": "HTMLModel",
            "_view_count": null,
            "_view_module": "@jupyter-widgets/controls",
            "_view_module_version": "1.5.0",
            "_view_name": "HTMLView",
            "description": "",
            "description_tooltip": null,
            "layout": "IPY_MODEL_8347b138c86f445f943a8186777b4749",
            "placeholder": "​",
            "style": "IPY_MODEL_e3a630f4098841ff879f77eb71a4a65d",
            "value": " 532/532 [00:00&lt;00:00, 14.7kB/s]"
          }
        },
        "96fc3e5c8fe94c92a8972cf1703520d3": {
          "model_module": "@jupyter-widgets/controls",
          "model_module_version": "1.5.0",
          "model_name": "ProgressStyleModel",
          "state": {
            "_model_module": "@jupyter-widgets/controls",
            "_model_module_version": "1.5.0",
            "_model_name": "ProgressStyleModel",
            "_view_count": null,
            "_view_module": "@jupyter-widgets/base",
            "_view_module_version": "1.2.0",
            "_view_name": "StyleView",
            "bar_color": null,
            "description_width": ""
          }
        },
        "98379af4c4004da18344d3036fe61a49": {
          "model_module": "@jupyter-widgets/base",
          "model_module_version": "1.2.0",
          "model_name": "LayoutModel",
          "state": {
            "_model_module": "@jupyter-widgets/base",
            "_model_module_version": "1.2.0",
            "_model_name": "LayoutModel",
            "_view_count": null,
            "_view_module": "@jupyter-widgets/base",
            "_view_module_version": "1.2.0",
            "_view_name": "LayoutView",
            "align_content": null,
            "align_items": null,
            "align_self": null,
            "border": null,
            "bottom": null,
            "display": null,
            "flex": null,
            "flex_flow": null,
            "grid_area": null,
            "grid_auto_columns": null,
            "grid_auto_flow": null,
            "grid_auto_rows": null,
            "grid_column": null,
            "grid_gap": null,
            "grid_row": null,
            "grid_template_areas": null,
            "grid_template_columns": null,
            "grid_template_rows": null,
            "height": null,
            "justify_content": null,
            "justify_items": null,
            "left": null,
            "margin": null,
            "max_height": null,
            "max_width": null,
            "min_height": null,
            "min_width": null,
            "object_fit": null,
            "object_position": null,
            "order": null,
            "overflow": null,
            "overflow_x": null,
            "overflow_y": null,
            "padding": null,
            "right": null,
            "top": null,
            "visibility": null,
            "width": null
          }
        },
        "a310a0b06cf64fdd92b88f290a73e84c": {
          "model_module": "@jupyter-widgets/controls",
          "model_module_version": "1.5.0",
          "model_name": "DescriptionStyleModel",
          "state": {
            "_model_module": "@jupyter-widgets/controls",
            "_model_module_version": "1.5.0",
            "_model_name": "DescriptionStyleModel",
            "_view_count": null,
            "_view_module": "@jupyter-widgets/base",
            "_view_module_version": "1.2.0",
            "_view_name": "StyleView",
            "description_width": ""
          }
        },
        "a44e77e82371424e96c8aafe8884db96": {
          "model_module": "@jupyter-widgets/controls",
          "model_module_version": "1.5.0",
          "model_name": "HBoxModel",
          "state": {
            "_dom_classes": [],
            "_model_module": "@jupyter-widgets/controls",
            "_model_module_version": "1.5.0",
            "_model_name": "HBoxModel",
            "_view_count": null,
            "_view_module": "@jupyter-widgets/controls",
            "_view_module_version": "1.5.0",
            "_view_name": "HBoxView",
            "box_style": "",
            "children": [
              "IPY_MODEL_384ff9ea2b0042cf9d4ce417c3f44985",
              "IPY_MODEL_4903bdd218ec4a3ebdf490679772e93a",
              "IPY_MODEL_a743d467dc594b088f491fd30d44ab28"
            ],
            "layout": "IPY_MODEL_07f407ac74be44be8a13928f908d20ce"
          }
        },
        "a743d467dc594b088f491fd30d44ab28": {
          "model_module": "@jupyter-widgets/controls",
          "model_module_version": "1.5.0",
          "model_name": "HTMLModel",
          "state": {
            "_dom_classes": [],
            "_model_module": "@jupyter-widgets/controls",
            "_model_module_version": "1.5.0",
            "_model_name": "HTMLModel",
            "_view_count": null,
            "_view_module": "@jupyter-widgets/controls",
            "_view_module_version": "1.5.0",
            "_view_name": "HTMLView",
            "description": "",
            "description_tooltip": null,
            "layout": "IPY_MODEL_0cc94ec7c0b74b24a19c367bd273f4a2",
            "placeholder": "​",
            "style": "IPY_MODEL_254820fb87fe4ce792c9c10984df0714",
            "value": " 3.92k/3.92k [00:01&lt;00:00, 1.98kB/s]"
          }
        },
        "b4a9d76e4f124fb7ab6f9c3d64a0987c": {
          "model_module": "@jupyter-widgets/base",
          "model_module_version": "1.2.0",
          "model_name": "LayoutModel",
          "state": {
            "_model_module": "@jupyter-widgets/base",
            "_model_module_version": "1.2.0",
            "_model_name": "LayoutModel",
            "_view_count": null,
            "_view_module": "@jupyter-widgets/base",
            "_view_module_version": "1.2.0",
            "_view_name": "LayoutView",
            "align_content": null,
            "align_items": null,
            "align_self": null,
            "border": null,
            "bottom": null,
            "display": null,
            "flex": null,
            "flex_flow": null,
            "grid_area": null,
            "grid_auto_columns": null,
            "grid_auto_flow": null,
            "grid_auto_rows": null,
            "grid_column": null,
            "grid_gap": null,
            "grid_row": null,
            "grid_template_areas": null,
            "grid_template_columns": null,
            "grid_template_rows": null,
            "height": null,
            "justify_content": null,
            "justify_items": null,
            "left": null,
            "margin": null,
            "max_height": null,
            "max_width": null,
            "min_height": null,
            "min_width": null,
            "object_fit": null,
            "object_position": null,
            "order": null,
            "overflow": null,
            "overflow_x": null,
            "overflow_y": null,
            "padding": null,
            "right": null,
            "top": null,
            "visibility": null,
            "width": null
          }
        },
        "bc92da07e4d441ceba20565df0497602": {
          "model_module": "@jupyter-widgets/controls",
          "model_module_version": "1.5.0",
          "model_name": "FloatProgressModel",
          "state": {
            "_dom_classes": [],
            "_model_module": "@jupyter-widgets/controls",
            "_model_module_version": "1.5.0",
            "_model_name": "FloatProgressModel",
            "_view_count": null,
            "_view_module": "@jupyter-widgets/controls",
            "_view_module_version": "1.5.0",
            "_view_name": "ProgressView",
            "bar_style": "success",
            "description": "",
            "description_tooltip": null,
            "layout": "IPY_MODEL_589fa636908b402d8f26abc5e40727a5",
            "max": 6,
            "min": 0,
            "orientation": "horizontal",
            "style": "IPY_MODEL_0b1ec1a2282441a6a1caf2080bd8bb52",
            "value": 6
          }
        },
        "c17212ecbdff4086bace9ad3f900e636": {
          "model_module": "@jupyter-widgets/base",
          "model_module_version": "1.2.0",
          "model_name": "LayoutModel",
          "state": {
            "_model_module": "@jupyter-widgets/base",
            "_model_module_version": "1.2.0",
            "_model_name": "LayoutModel",
            "_view_count": null,
            "_view_module": "@jupyter-widgets/base",
            "_view_module_version": "1.2.0",
            "_view_name": "LayoutView",
            "align_content": null,
            "align_items": null,
            "align_self": null,
            "border": null,
            "bottom": null,
            "display": null,
            "flex": null,
            "flex_flow": null,
            "grid_area": null,
            "grid_auto_columns": null,
            "grid_auto_flow": null,
            "grid_auto_rows": null,
            "grid_column": null,
            "grid_gap": null,
            "grid_row": null,
            "grid_template_areas": null,
            "grid_template_columns": null,
            "grid_template_rows": null,
            "height": null,
            "justify_content": null,
            "justify_items": null,
            "left": null,
            "margin": null,
            "max_height": null,
            "max_width": null,
            "min_height": null,
            "min_width": null,
            "object_fit": null,
            "object_position": null,
            "order": null,
            "overflow": null,
            "overflow_x": null,
            "overflow_y": null,
            "padding": null,
            "right": null,
            "top": null,
            "visibility": null,
            "width": null
          }
        },
        "cfd1815027c24baf996d2167cb39c1c5": {
          "model_module": "@jupyter-widgets/controls",
          "model_module_version": "1.5.0",
          "model_name": "DescriptionStyleModel",
          "state": {
            "_model_module": "@jupyter-widgets/controls",
            "_model_module_version": "1.5.0",
            "_model_name": "DescriptionStyleModel",
            "_view_count": null,
            "_view_module": "@jupyter-widgets/base",
            "_view_module_version": "1.2.0",
            "_view_name": "StyleView",
            "description_width": ""
          }
        },
        "d326f130963a49ca8aecca073b44abe6": {
          "model_module": "@jupyter-widgets/base",
          "model_module_version": "1.2.0",
          "model_name": "LayoutModel",
          "state": {
            "_model_module": "@jupyter-widgets/base",
            "_model_module_version": "1.2.0",
            "_model_name": "LayoutModel",
            "_view_count": null,
            "_view_module": "@jupyter-widgets/base",
            "_view_module_version": "1.2.0",
            "_view_name": "LayoutView",
            "align_content": null,
            "align_items": null,
            "align_self": null,
            "border": null,
            "bottom": null,
            "display": null,
            "flex": null,
            "flex_flow": null,
            "grid_area": null,
            "grid_auto_columns": null,
            "grid_auto_flow": null,
            "grid_auto_rows": null,
            "grid_column": null,
            "grid_gap": null,
            "grid_row": null,
            "grid_template_areas": null,
            "grid_template_columns": null,
            "grid_template_rows": null,
            "height": null,
            "justify_content": null,
            "justify_items": null,
            "left": null,
            "margin": null,
            "max_height": null,
            "max_width": null,
            "min_height": null,
            "min_width": null,
            "object_fit": null,
            "object_position": null,
            "order": null,
            "overflow": null,
            "overflow_x": null,
            "overflow_y": null,
            "padding": null,
            "right": null,
            "top": null,
            "visibility": null,
            "width": null
          }
        },
        "d586b1c160f74e1e8be46924f5d85f85": {
          "model_module": "@jupyter-widgets/base",
          "model_module_version": "1.2.0",
          "model_name": "LayoutModel",
          "state": {
            "_model_module": "@jupyter-widgets/base",
            "_model_module_version": "1.2.0",
            "_model_name": "LayoutModel",
            "_view_count": null,
            "_view_module": "@jupyter-widgets/base",
            "_view_module_version": "1.2.0",
            "_view_name": "LayoutView",
            "align_content": null,
            "align_items": null,
            "align_self": null,
            "border": null,
            "bottom": null,
            "display": null,
            "flex": null,
            "flex_flow": null,
            "grid_area": null,
            "grid_auto_columns": null,
            "grid_auto_flow": null,
            "grid_auto_rows": null,
            "grid_column": null,
            "grid_gap": null,
            "grid_row": null,
            "grid_template_areas": null,
            "grid_template_columns": null,
            "grid_template_rows": null,
            "height": null,
            "justify_content": null,
            "justify_items": null,
            "left": null,
            "margin": null,
            "max_height": null,
            "max_width": null,
            "min_height": null,
            "min_width": null,
            "object_fit": null,
            "object_position": null,
            "order": null,
            "overflow": null,
            "overflow_x": null,
            "overflow_y": null,
            "padding": null,
            "right": null,
            "top": null,
            "visibility": null,
            "width": null
          }
        },
        "dc59edfe25a648fa97a3e3eea529fb8e": {
          "model_module": "@jupyter-widgets/controls",
          "model_module_version": "1.5.0",
          "model_name": "HBoxModel",
          "state": {
            "_dom_classes": [],
            "_model_module": "@jupyter-widgets/controls",
            "_model_module_version": "1.5.0",
            "_model_name": "HBoxModel",
            "_view_count": null,
            "_view_module": "@jupyter-widgets/controls",
            "_view_module_version": "1.5.0",
            "_view_name": "HBoxView",
            "box_style": "",
            "children": [
              "IPY_MODEL_69af9121c3b94ade81e54cbd246aa5dc",
              "IPY_MODEL_79df315bcc374ed0ade73a502b59fa48",
              "IPY_MODEL_0d64c95ddd37414b9ce70218a78c6212"
            ],
            "layout": "IPY_MODEL_d586b1c160f74e1e8be46924f5d85f85"
          }
        },
        "e3a630f4098841ff879f77eb71a4a65d": {
          "model_module": "@jupyter-widgets/controls",
          "model_module_version": "1.5.0",
          "model_name": "DescriptionStyleModel",
          "state": {
            "_model_module": "@jupyter-widgets/controls",
            "_model_module_version": "1.5.0",
            "_model_name": "DescriptionStyleModel",
            "_view_count": null,
            "_view_module": "@jupyter-widgets/base",
            "_view_module_version": "1.2.0",
            "_view_name": "StyleView",
            "description_width": ""
          }
        },
        "e5244c7dfcee4e668ca300216122b2f4": {
          "model_module": "@jupyter-widgets/controls",
          "model_module_version": "1.5.0",
          "model_name": "DescriptionStyleModel",
          "state": {
            "_model_module": "@jupyter-widgets/controls",
            "_model_module_version": "1.5.0",
            "_model_name": "DescriptionStyleModel",
            "_view_count": null,
            "_view_module": "@jupyter-widgets/base",
            "_view_module_version": "1.2.0",
            "_view_name": "StyleView",
            "description_width": ""
          }
        },
        "f25c4a47ec674ca1927ffd0f1e69c306": {
          "model_module": "@jupyter-widgets/base",
          "model_module_version": "1.2.0",
          "model_name": "LayoutModel",
          "state": {
            "_model_module": "@jupyter-widgets/base",
            "_model_module_version": "1.2.0",
            "_model_name": "LayoutModel",
            "_view_count": null,
            "_view_module": "@jupyter-widgets/base",
            "_view_module_version": "1.2.0",
            "_view_name": "LayoutView",
            "align_content": null,
            "align_items": null,
            "align_self": null,
            "border": null,
            "bottom": null,
            "display": null,
            "flex": null,
            "flex_flow": null,
            "grid_area": null,
            "grid_auto_columns": null,
            "grid_auto_flow": null,
            "grid_auto_rows": null,
            "grid_column": null,
            "grid_gap": null,
            "grid_row": null,
            "grid_template_areas": null,
            "grid_template_columns": null,
            "grid_template_rows": null,
            "height": null,
            "justify_content": null,
            "justify_items": null,
            "left": null,
            "margin": null,
            "max_height": null,
            "max_width": null,
            "min_height": null,
            "min_width": null,
            "object_fit": null,
            "object_position": null,
            "order": null,
            "overflow": null,
            "overflow_x": null,
            "overflow_y": null,
            "padding": null,
            "right": null,
            "top": null,
            "visibility": null,
            "width": null
          }
        },
        "f6cdf3e31f3b4fe49f0ffa0e456f9e34": {
          "model_module": "@jupyter-widgets/controls",
          "model_module_version": "1.5.0",
          "model_name": "HBoxModel",
          "state": {
            "_dom_classes": [],
            "_model_module": "@jupyter-widgets/controls",
            "_model_module_version": "1.5.0",
            "_model_name": "HBoxModel",
            "_view_count": null,
            "_view_module": "@jupyter-widgets/controls",
            "_view_module_version": "1.5.0",
            "_view_name": "HBoxView",
            "box_style": "",
            "children": [
              "IPY_MODEL_7de506eb683c4662a04c6f9b77766489",
              "IPY_MODEL_21d102d5236d4f4e85d4bb9cc26987ea",
              "IPY_MODEL_8e0891e3334e44cc8ae8eeb970bbc2ec"
            ],
            "layout": "IPY_MODEL_b4a9d76e4f124fb7ab6f9c3d64a0987c"
          }
        },
        "fbc3b47609694f698a34831d26f5dede": {
          "model_module": "@jupyter-widgets/controls",
          "model_module_version": "1.5.0",
          "model_name": "ProgressStyleModel",
          "state": {
            "_model_module": "@jupyter-widgets/controls",
            "_model_module_version": "1.5.0",
            "_model_name": "ProgressStyleModel",
            "_view_count": null,
            "_view_module": "@jupyter-widgets/base",
            "_view_module_version": "1.2.0",
            "_view_name": "StyleView",
            "bar_color": null,
            "description_width": ""
          }
        },
        "fc33a95172774253b21734bbfa6500e9": {
          "model_module": "@jupyter-widgets/controls",
          "model_module_version": "1.5.0",
          "model_name": "HTMLModel",
          "state": {
            "_dom_classes": [],
            "_model_module": "@jupyter-widgets/controls",
            "_model_module_version": "1.5.0",
            "_model_name": "HTMLModel",
            "_view_count": null,
            "_view_module": "@jupyter-widgets/controls",
            "_view_module_version": "1.5.0",
            "_view_name": "HTMLView",
            "description": "",
            "description_tooltip": null,
            "layout": "IPY_MODEL_1c9d644e1f06481bbadd0f9ee0c0ae2f",
            "placeholder": "​",
            "style": "IPY_MODEL_5cc6790696d34e93929dc58eebdb3c0d",
            "value": " 6/6 [00:00&lt;00:00, 59.04 examples/s]"
          }
        },
        "fd9ceb019adc47a6ae3e3f867cc7c25b": {
          "model_module": "@jupyter-widgets/base",
          "model_module_version": "1.2.0",
          "model_name": "LayoutModel",
          "state": {
            "_model_module": "@jupyter-widgets/base",
            "_model_module_version": "1.2.0",
            "_model_name": "LayoutModel",
            "_view_count": null,
            "_view_module": "@jupyter-widgets/base",
            "_view_module_version": "1.2.0",
            "_view_name": "LayoutView",
            "align_content": null,
            "align_items": null,
            "align_self": null,
            "border": null,
            "bottom": null,
            "display": null,
            "flex": null,
            "flex_flow": null,
            "grid_area": null,
            "grid_auto_columns": null,
            "grid_auto_flow": null,
            "grid_auto_rows": null,
            "grid_column": null,
            "grid_gap": null,
            "grid_row": null,
            "grid_template_areas": null,
            "grid_template_columns": null,
            "grid_template_rows": null,
            "height": null,
            "justify_content": null,
            "justify_items": null,
            "left": null,
            "margin": null,
            "max_height": null,
            "max_width": null,
            "min_height": null,
            "min_width": null,
            "object_fit": null,
            "object_position": null,
            "order": null,
            "overflow": null,
            "overflow_x": null,
            "overflow_y": null,
            "padding": null,
            "right": null,
            "top": null,
            "visibility": null,
            "width": null
          }
        }
      }
    }
  },
  "nbformat": 4,
  "nbformat_minor": 0
}
